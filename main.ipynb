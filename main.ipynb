{
 "cells": [
  {
   "cell_type": "code",
   "execution_count": 1,
   "id": "41e98afd",
   "metadata": {},
   "outputs": [],
   "source": [
    "import pandas as pd\n",
    "import numpy as np\n",
    "from sklearn import preprocessing, model_selection, svm\n",
    "from sklearn.linear_model import LinearRegression"
   ]
  },
  {
   "cell_type": "markdown",
   "id": "47642e8b",
   "metadata": {},
   "source": [
    "Importing the data"
   ]
  },
  {
   "cell_type": "code",
   "execution_count": 2,
   "id": "a88d1678",
   "metadata": {},
   "outputs": [
    {
     "data": {
      "text/html": [
       "<div>\n",
       "<style scoped>\n",
       "    .dataframe tbody tr th:only-of-type {\n",
       "        vertical-align: middle;\n",
       "    }\n",
       "\n",
       "    .dataframe tbody tr th {\n",
       "        vertical-align: top;\n",
       "    }\n",
       "\n",
       "    .dataframe thead th {\n",
       "        text-align: right;\n",
       "    }\n",
       "</style>\n",
       "<table border=\"1\" class=\"dataframe\">\n",
       "  <thead>\n",
       "    <tr style=\"text-align: right;\">\n",
       "      <th></th>\n",
       "      <th>Date</th>\n",
       "      <th>Open</th>\n",
       "      <th>High</th>\n",
       "      <th>Low</th>\n",
       "      <th>Close</th>\n",
       "      <th>Volume</th>\n",
       "      <th>Dividends</th>\n",
       "      <th>Stock Splits</th>\n",
       "    </tr>\n",
       "  </thead>\n",
       "  <tbody>\n",
       "    <tr>\n",
       "      <th>0</th>\n",
       "      <td>1962-01-02</td>\n",
       "      <td>0.051133</td>\n",
       "      <td>0.052525</td>\n",
       "      <td>0.051133</td>\n",
       "      <td>0.051133</td>\n",
       "      <td>806400</td>\n",
       "      <td>0.0</td>\n",
       "      <td>0.0</td>\n",
       "    </tr>\n",
       "    <tr>\n",
       "      <th>1</th>\n",
       "      <td>1962-01-03</td>\n",
       "      <td>0.050374</td>\n",
       "      <td>0.050374</td>\n",
       "      <td>0.049234</td>\n",
       "      <td>0.049994</td>\n",
       "      <td>1574400</td>\n",
       "      <td>0.0</td>\n",
       "      <td>0.0</td>\n",
       "    </tr>\n",
       "    <tr>\n",
       "      <th>2</th>\n",
       "      <td>1962-01-04</td>\n",
       "      <td>0.050121</td>\n",
       "      <td>0.050753</td>\n",
       "      <td>0.050121</td>\n",
       "      <td>0.050374</td>\n",
       "      <td>844800</td>\n",
       "      <td>0.0</td>\n",
       "      <td>0.0</td>\n",
       "    </tr>\n",
       "    <tr>\n",
       "      <th>3</th>\n",
       "      <td>1962-01-05</td>\n",
       "      <td>0.050374</td>\n",
       "      <td>0.051006</td>\n",
       "      <td>0.049108</td>\n",
       "      <td>0.049234</td>\n",
       "      <td>1420800</td>\n",
       "      <td>0.0</td>\n",
       "      <td>0.0</td>\n",
       "    </tr>\n",
       "    <tr>\n",
       "      <th>4</th>\n",
       "      <td>1962-01-08</td>\n",
       "      <td>0.048855</td>\n",
       "      <td>0.048855</td>\n",
       "      <td>0.047779</td>\n",
       "      <td>0.048728</td>\n",
       "      <td>2035200</td>\n",
       "      <td>0.0</td>\n",
       "      <td>0.0</td>\n",
       "    </tr>\n",
       "  </tbody>\n",
       "</table>\n",
       "</div>"
      ],
      "text/plain": [
       "         Date      Open      High       Low     Close   Volume  Dividends  \\\n",
       "0  1962-01-02  0.051133  0.052525  0.051133  0.051133   806400        0.0   \n",
       "1  1962-01-03  0.050374  0.050374  0.049234  0.049994  1574400        0.0   \n",
       "2  1962-01-04  0.050121  0.050753  0.050121  0.050374   844800        0.0   \n",
       "3  1962-01-05  0.050374  0.051006  0.049108  0.049234  1420800        0.0   \n",
       "4  1962-01-08  0.048855  0.048855  0.047779  0.048728  2035200        0.0   \n",
       "\n",
       "   Stock Splits  \n",
       "0           0.0  \n",
       "1           0.0  \n",
       "2           0.0  \n",
       "3           0.0  \n",
       "4           0.0  "
      ]
     },
     "execution_count": 2,
     "metadata": {},
     "output_type": "execute_result"
    }
   ],
   "source": [
    "df = pd.read_csv (\"./data/Coca-Cola_stock_history.csv\")\n",
    "df.head()"
   ]
  },
  {
   "cell_type": "markdown",
   "id": "8e8d1fe3",
   "metadata": {},
   "source": [
    "The new field HL_PCT together with volume will measure the volatility of the stock"
   ]
  },
  {
   "cell_type": "code",
   "execution_count": 3,
   "id": "19b2dcfa",
   "metadata": {},
   "outputs": [],
   "source": [
    "df[\"HL_PCT\"] = (df[\"High\"] - df[\"Close\"]) / df[\"Close\"] * 100"
   ]
  },
  {
   "cell_type": "markdown",
   "id": "ea76d220",
   "metadata": {},
   "source": [
    "PCT_change will measure if the stock price goes up or down after a day"
   ]
  },
  {
   "cell_type": "code",
   "execution_count": 4,
   "id": "bbf14073",
   "metadata": {},
   "outputs": [],
   "source": [
    "df[\"PCT_change\"] = (df[\"Close\"] - df[\"Open\"]) / df[\"Open\"] * 100"
   ]
  },
  {
   "cell_type": "code",
   "execution_count": 5,
   "id": "c93820ca",
   "metadata": {},
   "outputs": [
    {
     "data": {
      "text/html": [
       "<div>\n",
       "<style scoped>\n",
       "    .dataframe tbody tr th:only-of-type {\n",
       "        vertical-align: middle;\n",
       "    }\n",
       "\n",
       "    .dataframe tbody tr th {\n",
       "        vertical-align: top;\n",
       "    }\n",
       "\n",
       "    .dataframe thead th {\n",
       "        text-align: right;\n",
       "    }\n",
       "</style>\n",
       "<table border=\"1\" class=\"dataframe\">\n",
       "  <thead>\n",
       "    <tr style=\"text-align: right;\">\n",
       "      <th></th>\n",
       "      <th>Date</th>\n",
       "      <th>Open</th>\n",
       "      <th>High</th>\n",
       "      <th>Low</th>\n",
       "      <th>Close</th>\n",
       "      <th>Volume</th>\n",
       "      <th>Dividends</th>\n",
       "      <th>Stock Splits</th>\n",
       "      <th>HL_PCT</th>\n",
       "      <th>PCT_change</th>\n",
       "    </tr>\n",
       "  </thead>\n",
       "  <tbody>\n",
       "    <tr>\n",
       "      <th>0</th>\n",
       "      <td>1962-01-02</td>\n",
       "      <td>0.051133</td>\n",
       "      <td>0.052525</td>\n",
       "      <td>0.051133</td>\n",
       "      <td>0.051133</td>\n",
       "      <td>806400</td>\n",
       "      <td>0.0</td>\n",
       "      <td>0.0</td>\n",
       "      <td>2.722604</td>\n",
       "      <td>0.000000</td>\n",
       "    </tr>\n",
       "    <tr>\n",
       "      <th>1</th>\n",
       "      <td>1962-01-03</td>\n",
       "      <td>0.050374</td>\n",
       "      <td>0.050374</td>\n",
       "      <td>0.049234</td>\n",
       "      <td>0.049994</td>\n",
       "      <td>1574400</td>\n",
       "      <td>0.0</td>\n",
       "      <td>0.0</td>\n",
       "      <td>0.759843</td>\n",
       "      <td>-0.754113</td>\n",
       "    </tr>\n",
       "    <tr>\n",
       "      <th>2</th>\n",
       "      <td>1962-01-04</td>\n",
       "      <td>0.050121</td>\n",
       "      <td>0.050753</td>\n",
       "      <td>0.050121</td>\n",
       "      <td>0.050374</td>\n",
       "      <td>844800</td>\n",
       "      <td>0.0</td>\n",
       "      <td>0.0</td>\n",
       "      <td>0.753710</td>\n",
       "      <td>0.505019</td>\n",
       "    </tr>\n",
       "    <tr>\n",
       "      <th>3</th>\n",
       "      <td>1962-01-05</td>\n",
       "      <td>0.050374</td>\n",
       "      <td>0.051006</td>\n",
       "      <td>0.049108</td>\n",
       "      <td>0.049234</td>\n",
       "      <td>1420800</td>\n",
       "      <td>0.0</td>\n",
       "      <td>0.0</td>\n",
       "      <td>3.599131</td>\n",
       "      <td>-2.261544</td>\n",
       "    </tr>\n",
       "    <tr>\n",
       "      <th>4</th>\n",
       "      <td>1962-01-08</td>\n",
       "      <td>0.048855</td>\n",
       "      <td>0.048855</td>\n",
       "      <td>0.047779</td>\n",
       "      <td>0.048728</td>\n",
       "      <td>2035200</td>\n",
       "      <td>0.0</td>\n",
       "      <td>0.0</td>\n",
       "      <td>0.259724</td>\n",
       "      <td>-0.259052</td>\n",
       "    </tr>\n",
       "  </tbody>\n",
       "</table>\n",
       "</div>"
      ],
      "text/plain": [
       "         Date      Open      High       Low     Close   Volume  Dividends  \\\n",
       "0  1962-01-02  0.051133  0.052525  0.051133  0.051133   806400        0.0   \n",
       "1  1962-01-03  0.050374  0.050374  0.049234  0.049994  1574400        0.0   \n",
       "2  1962-01-04  0.050121  0.050753  0.050121  0.050374   844800        0.0   \n",
       "3  1962-01-05  0.050374  0.051006  0.049108  0.049234  1420800        0.0   \n",
       "4  1962-01-08  0.048855  0.048855  0.047779  0.048728  2035200        0.0   \n",
       "\n",
       "   Stock Splits    HL_PCT  PCT_change  \n",
       "0           0.0  2.722604    0.000000  \n",
       "1           0.0  0.759843   -0.754113  \n",
       "2           0.0  0.753710    0.505019  \n",
       "3           0.0  3.599131   -2.261544  \n",
       "4           0.0  0.259724   -0.259052  "
      ]
     },
     "execution_count": 5,
     "metadata": {},
     "output_type": "execute_result"
    }
   ],
   "source": [
    "df.head()"
   ]
  },
  {
   "cell_type": "code",
   "execution_count": 6,
   "id": "bd448aea",
   "metadata": {},
   "outputs": [],
   "source": [
    "df = df[[\"HL_PCT\", \"PCT_change\", \"Close\", \"Volume\"]]\n",
    "forecast_col = \"Close\""
   ]
  },
  {
   "cell_type": "code",
   "execution_count": 7,
   "id": "76fbb4c9",
   "metadata": {
    "scrolled": true
   },
   "outputs": [
    {
     "data": {
      "text/html": [
       "<div>\n",
       "<style scoped>\n",
       "    .dataframe tbody tr th:only-of-type {\n",
       "        vertical-align: middle;\n",
       "    }\n",
       "\n",
       "    .dataframe tbody tr th {\n",
       "        vertical-align: top;\n",
       "    }\n",
       "\n",
       "    .dataframe thead th {\n",
       "        text-align: right;\n",
       "    }\n",
       "</style>\n",
       "<table border=\"1\" class=\"dataframe\">\n",
       "  <thead>\n",
       "    <tr style=\"text-align: right;\">\n",
       "      <th></th>\n",
       "      <th>HL_PCT</th>\n",
       "      <th>PCT_change</th>\n",
       "      <th>Close</th>\n",
       "      <th>Volume</th>\n",
       "    </tr>\n",
       "  </thead>\n",
       "  <tbody>\n",
       "    <tr>\n",
       "      <th>0</th>\n",
       "      <td>2.722604</td>\n",
       "      <td>0.000000</td>\n",
       "      <td>0.051133</td>\n",
       "      <td>806400</td>\n",
       "    </tr>\n",
       "    <tr>\n",
       "      <th>1</th>\n",
       "      <td>0.759843</td>\n",
       "      <td>-0.754113</td>\n",
       "      <td>0.049994</td>\n",
       "      <td>1574400</td>\n",
       "    </tr>\n",
       "    <tr>\n",
       "      <th>2</th>\n",
       "      <td>0.753710</td>\n",
       "      <td>0.505019</td>\n",
       "      <td>0.050374</td>\n",
       "      <td>844800</td>\n",
       "    </tr>\n",
       "    <tr>\n",
       "      <th>3</th>\n",
       "      <td>3.599131</td>\n",
       "      <td>-2.261544</td>\n",
       "      <td>0.049234</td>\n",
       "      <td>1420800</td>\n",
       "    </tr>\n",
       "    <tr>\n",
       "      <th>4</th>\n",
       "      <td>0.259724</td>\n",
       "      <td>-0.259052</td>\n",
       "      <td>0.048728</td>\n",
       "      <td>2035200</td>\n",
       "    </tr>\n",
       "  </tbody>\n",
       "</table>\n",
       "</div>"
      ],
      "text/plain": [
       "     HL_PCT  PCT_change     Close   Volume\n",
       "0  2.722604    0.000000  0.051133   806400\n",
       "1  0.759843   -0.754113  0.049994  1574400\n",
       "2  0.753710    0.505019  0.050374   844800\n",
       "3  3.599131   -2.261544  0.049234  1420800\n",
       "4  0.259724   -0.259052  0.048728  2035200"
      ]
     },
     "execution_count": 7,
     "metadata": {},
     "output_type": "execute_result"
    }
   ],
   "source": [
    "df.head()"
   ]
  },
  {
   "cell_type": "code",
   "execution_count": 8,
   "id": "6b873f71",
   "metadata": {
    "scrolled": true
   },
   "outputs": [
    {
     "data": {
      "text/plain": [
       "HL_PCT        False\n",
       "PCT_change    False\n",
       "Close         False\n",
       "Volume        False\n",
       "dtype: bool"
      ]
     },
     "execution_count": 8,
     "metadata": {},
     "output_type": "execute_result"
    }
   ],
   "source": [
    "df.isnull().any()"
   ]
  },
  {
   "cell_type": "markdown",
   "id": "1ade8afa",
   "metadata": {},
   "source": [
    "Although there's is no NA value, we are cleaning the data for extra caution"
   ]
  },
  {
   "cell_type": "code",
   "execution_count": 9,
   "id": "3c093fa9",
   "metadata": {},
   "outputs": [],
   "source": [
    "df.dropna(inplace=True)"
   ]
  },
  {
   "cell_type": "markdown",
   "id": "ac6e6473",
   "metadata": {},
   "source": [
    "Adding response variable which is the Close price of Coke stock 30 day in the future"
   ]
  },
  {
   "cell_type": "code",
   "execution_count": 10,
   "id": "29fc1b27",
   "metadata": {},
   "outputs": [
    {
     "data": {
      "text/html": [
       "<div>\n",
       "<style scoped>\n",
       "    .dataframe tbody tr th:only-of-type {\n",
       "        vertical-align: middle;\n",
       "    }\n",
       "\n",
       "    .dataframe tbody tr th {\n",
       "        vertical-align: top;\n",
       "    }\n",
       "\n",
       "    .dataframe thead th {\n",
       "        text-align: right;\n",
       "    }\n",
       "</style>\n",
       "<table border=\"1\" class=\"dataframe\">\n",
       "  <thead>\n",
       "    <tr style=\"text-align: right;\">\n",
       "      <th></th>\n",
       "      <th>HL_PCT</th>\n",
       "      <th>PCT_change</th>\n",
       "      <th>Close</th>\n",
       "      <th>Volume</th>\n",
       "      <th>label</th>\n",
       "    </tr>\n",
       "  </thead>\n",
       "  <tbody>\n",
       "    <tr>\n",
       "      <th>0</th>\n",
       "      <td>2.722604</td>\n",
       "      <td>0.000000</td>\n",
       "      <td>0.051133</td>\n",
       "      <td>806400</td>\n",
       "      <td>0.047716</td>\n",
       "    </tr>\n",
       "    <tr>\n",
       "      <th>1</th>\n",
       "      <td>0.759843</td>\n",
       "      <td>-0.754113</td>\n",
       "      <td>0.049994</td>\n",
       "      <td>1574400</td>\n",
       "      <td>0.046830</td>\n",
       "    </tr>\n",
       "    <tr>\n",
       "      <th>2</th>\n",
       "      <td>0.753710</td>\n",
       "      <td>0.505019</td>\n",
       "      <td>0.050374</td>\n",
       "      <td>844800</td>\n",
       "      <td>0.046576</td>\n",
       "    </tr>\n",
       "    <tr>\n",
       "      <th>3</th>\n",
       "      <td>3.599131</td>\n",
       "      <td>-2.261544</td>\n",
       "      <td>0.049234</td>\n",
       "      <td>1420800</td>\n",
       "      <td>0.046576</td>\n",
       "    </tr>\n",
       "    <tr>\n",
       "      <th>4</th>\n",
       "      <td>0.259724</td>\n",
       "      <td>-0.259052</td>\n",
       "      <td>0.048728</td>\n",
       "      <td>2035200</td>\n",
       "      <td>0.047336</td>\n",
       "    </tr>\n",
       "    <tr>\n",
       "      <th>...</th>\n",
       "      <td>...</td>\n",
       "      <td>...</td>\n",
       "      <td>...</td>\n",
       "      <td>...</td>\n",
       "      <td>...</td>\n",
       "    </tr>\n",
       "    <tr>\n",
       "      <th>15087</th>\n",
       "      <td>0.380364</td>\n",
       "      <td>0.345326</td>\n",
       "      <td>55.209999</td>\n",
       "      <td>23832700</td>\n",
       "      <td>60.750000</td>\n",
       "    </tr>\n",
       "    <tr>\n",
       "      <th>15088</th>\n",
       "      <td>0.636361</td>\n",
       "      <td>-0.217705</td>\n",
       "      <td>55.000000</td>\n",
       "      <td>18026300</td>\n",
       "      <td>60.450001</td>\n",
       "    </tr>\n",
       "    <tr>\n",
       "      <th>15089</th>\n",
       "      <td>0.492163</td>\n",
       "      <td>0.200914</td>\n",
       "      <td>54.860001</td>\n",
       "      <td>13846400</td>\n",
       "      <td>59.959999</td>\n",
       "    </tr>\n",
       "    <tr>\n",
       "      <th>15090</th>\n",
       "      <td>0.071075</td>\n",
       "      <td>1.864251</td>\n",
       "      <td>56.279999</td>\n",
       "      <td>23151000</td>\n",
       "      <td>59.820000</td>\n",
       "    </tr>\n",
       "    <tr>\n",
       "      <th>15091</th>\n",
       "      <td>0.294325</td>\n",
       "      <td>1.368899</td>\n",
       "      <td>57.759998</td>\n",
       "      <td>31362800</td>\n",
       "      <td>59.599998</td>\n",
       "    </tr>\n",
       "  </tbody>\n",
       "</table>\n",
       "<p>15092 rows × 5 columns</p>\n",
       "</div>"
      ],
      "text/plain": [
       "         HL_PCT  PCT_change      Close    Volume      label\n",
       "0      2.722604    0.000000   0.051133    806400   0.047716\n",
       "1      0.759843   -0.754113   0.049994   1574400   0.046830\n",
       "2      0.753710    0.505019   0.050374    844800   0.046576\n",
       "3      3.599131   -2.261544   0.049234   1420800   0.046576\n",
       "4      0.259724   -0.259052   0.048728   2035200   0.047336\n",
       "...         ...         ...        ...       ...        ...\n",
       "15087  0.380364    0.345326  55.209999  23832700  60.750000\n",
       "15088  0.636361   -0.217705  55.000000  18026300  60.450001\n",
       "15089  0.492163    0.200914  54.860001  13846400  59.959999\n",
       "15090  0.071075    1.864251  56.279999  23151000  59.820000\n",
       "15091  0.294325    1.368899  57.759998  31362800  59.599998\n",
       "\n",
       "[15092 rows x 5 columns]"
      ]
     },
     "execution_count": 10,
     "metadata": {},
     "output_type": "execute_result"
    }
   ],
   "source": [
    "forecast_col = \"Close\"\n",
    "\n",
    "forecast_out = 30\n",
    "\n",
    "df[\"label\"] = df[forecast_col].shift(-forecast_out)\n",
    "df.dropna(inplace=True)\n",
    "df"
   ]
  },
  {
   "cell_type": "markdown",
   "id": "832c0eca",
   "metadata": {},
   "source": [
    "Setting up the predictors and response variable"
   ]
  },
  {
   "cell_type": "code",
   "execution_count": 11,
   "id": "efadd543",
   "metadata": {},
   "outputs": [],
   "source": [
    "X = np.array(df.drop(columns=\"label\"))\n",
    "Y = np.array(df[\"label\"])"
   ]
  },
  {
   "cell_type": "markdown",
   "id": "ab533d97",
   "metadata": {},
   "source": [
    "Standardize predictors"
   ]
  },
  {
   "cell_type": "code",
   "execution_count": 12,
   "id": "ad6357e9",
   "metadata": {},
   "outputs": [],
   "source": [
    "X = preprocessing.scale(X)"
   ]
  },
  {
   "cell_type": "markdown",
   "id": "08b37c62",
   "metadata": {},
   "source": [
    "Split predictors and responses into folds of cross validation"
   ]
  },
  {
   "cell_type": "code",
   "execution_count": 13,
   "id": "cd81a165",
   "metadata": {},
   "outputs": [],
   "source": [
    "X_test, X_train, Y_test, Y_train = model_selection.train_test_split(X, Y, test_size=.2)"
   ]
  },
  {
   "cell_type": "markdown",
   "id": "ea375a90",
   "metadata": {},
   "source": [
    "This is the accuracy of simple linear regression"
   ]
  },
  {
   "cell_type": "code",
   "execution_count": 14,
   "id": "5fee1285",
   "metadata": {},
   "outputs": [
    {
     "data": {
      "text/plain": [
       "99.38969077361122"
      ]
     },
     "execution_count": 14,
     "metadata": {},
     "output_type": "execute_result"
    }
   ],
   "source": [
    "clf = LinearRegression(n_jobs=-1)\n",
    "clf.fit(X_train, Y_train)\n",
    "\n",
    "accuracy = clf.score(X_test, Y_test)\n",
    "accuracy * 100"
   ]
  },
  {
   "cell_type": "markdown",
   "id": "ce990864",
   "metadata": {},
   "source": [
    "This is the accuracy of support vector machine"
   ]
  },
  {
   "cell_type": "code",
   "execution_count": 15,
   "id": "f9dd4831",
   "metadata": {},
   "outputs": [
    {
     "data": {
      "text/plain": [
       "97.15031054259778"
      ]
     },
     "execution_count": 15,
     "metadata": {},
     "output_type": "execute_result"
    }
   ],
   "source": [
    "clf = svm.SVR()\n",
    "clf.fit(X_train, Y_train)\n",
    "\n",
    "accuracy = clf.score(X_test, Y_test)\n",
    "accuracy * 100"
   ]
  },
  {
   "cell_type": "code",
   "execution_count": null,
   "id": "787a5515",
   "metadata": {},
   "outputs": [],
   "source": []
  }
 ],
 "metadata": {
  "kernelspec": {
   "display_name": "Python 3 (ipykernel)",
   "language": "python",
   "name": "python3"
  },
  "language_info": {
   "codemirror_mode": {
    "name": "ipython",
    "version": 3
   },
   "file_extension": ".py",
   "mimetype": "text/x-python",
   "name": "python",
   "nbconvert_exporter": "python",
   "pygments_lexer": "ipython3",
   "version": "3.8.10"
  }
 },
 "nbformat": 4,
 "nbformat_minor": 5
}
